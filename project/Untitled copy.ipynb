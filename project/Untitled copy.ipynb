{
 "cells": [
  {
   "cell_type": "code",
   "execution_count": 1,
   "id": "9c76970f-a778-4689-bf95-18536b0f43de",
   "metadata": {},
   "outputs": [],
   "source": [
    "from utils.get_dataset_info import get_dataset_info\n",
    "import cv2 as cv\n",
    "import matplotlib.pyplot as plt\n",
    "import numpy as np\n",
    "from utils.get_dataset_info import get_dataset_info\n",
    "import cv2 as cv\n",
    "import numpy as np\n",
    "from utils import general, pflat, estimate_T_robust, levenberg_marquardt, triangulate_3D_point_DLT, viz\n",
    "from romatch import roma_outdoor\n",
    "import torch\n",
    "import os\n",
    "from tqdm import tqdm\n",
    "\n",
    "K, img_names, init_pair, pixel_threshold = get_dataset_info(3)\n",
    "K_inv = np.linalg.inv(K)\n",
    "image_paths = ['./project_data/'+img_name for img_name in img_names]"
   ]
  },
  {
   "cell_type": "code",
   "execution_count": 2,
   "id": "d9de5cac-7c43-4f06-872a-a43526f38824",
   "metadata": {},
   "outputs": [],
   "source": [
    " # Normalize pixel threshold\n",
    "focal_length = (K[0,0] + K[1 ,1])/2 # Average over the diagonal\n",
    "epipolar_treshold =          pixel_threshold / focal_length\n",
    "homography_threshold =   3 * pixel_threshold / focal_length\n",
    "translation_threshold  = 3 * pixel_threshold / focal_length"
   ]
  },
  {
   "cell_type": "code",
   "execution_count": null,
   "id": "d8e9b154-49e0-4b53-b524-57a493c4e798",
   "metadata": {},
   "outputs": [],
   "source": [
    "device = torch.device('cuda:0' if torch.cuda.is_available() else 'cpu')\n",
    "roma_model = roma_outdoor(device=device)"
   ]
  },
  {
   "cell_type": "code",
   "execution_count": null,
   "id": "9dce1a84-e597-4923-a164-f50b65671bab",
   "metadata": {},
   "outputs": [],
   "source": [
    "relative_rotations = general.find_relative_rotation(image_paths, K_inv, roma_model, epipolar_treshold, device=device)"
   ]
  },
  {
   "cell_type": "code",
   "execution_count": 5,
   "id": "6f3aed60-bfcc-4076-8d2d-9253bbd727d2",
   "metadata": {},
   "outputs": [],
   "source": [
    "absolute_rotations = general.upgrade_to_absolute_rotation(relative_rotations)"
   ]
  },
  {
   "cell_type": "code",
   "execution_count": 11,
   "id": "49a0b849-cac6-4d39-bdcd-14cf681a7584",
   "metadata": {},
   "outputs": [],
   "source": [
    "def estimate_T_robust(xs, Xs, R, eps, iterations=100):\n",
    "    assert xs.shape[-1] == Xs.shape[-1]\n",
    "    assert xs.shape[0] == 3\n",
    "    assert Xs.shape[0] == 3\n",
    "    \n",
    "    best_num_inliers = 0\n",
    "    best_T = None\n",
    "    for i in tqdm(range(iterations), desc=\"RANSAC iterations\"):\n",
    "        randind = np.random.choice(xs.shape[1], size=2, replace=False)\n",
    "        x, X = xs[:, randind], Xs[:, randind]\n",
    "        M = np.zeros((6, 4))\n",
    "\n",
    "        for j in range(2):  # Two correspondences\n",
    "            Xj = X[:, j]\n",
    "            xj = x[:, j]\n",
    "            M[3*j + 0] = [1, 0, 0, -xj[0]+R[0, :]@Xj]\n",
    "            M[3*j + 1] = [0, 1, 0, -xj[1]+R[1, :]@Xj]\n",
    "            M[3*j + 2] = [0, 0, 1, -xj[2]+R[2, :]@Xj]\n",
    "        _, S, Vt = np.linalg.svd(M)\n",
    "        T = Vt[-1, :3].reshape(-1, 1)  # The translation is the last column of Vt\n",
    "        print('Smallest singular value: ', S[-1])\n",
    "        \n",
    "        projected_points = R @ Xs[:3, :] + T  # 3 x N\n",
    "        projected_points /= projected_points[2, :]  # Normalize to homogeneous (2D)\n",
    "        errors = np.linalg.norm(xs[:2, :] - projected_points[:2, :], axis=0)**2\n",
    "        inliers = errors < eps**2\n",
    "        num_inliers = np.sum(inliers)\n",
    "        \n",
    "        if num_inliers > best_num_inliers:\n",
    "            best_num_inliers = num_inliers\n",
    "            best_T = T\n",
    "    print(f\"After running RANSAC for the reduced camera resectioning problem for {iterations} iterations the best solution has {best_num_inliers} inliers of {xs.shape[-1]} points. I.e. c. {best_num_inliers/xs.shape[-1]*100:.2f}%\")\n",
    "    return best_T\n",
    "    "
   ]
  },
  {
   "cell_type": "code",
   "execution_count": 12,
   "id": "e00157dc-ed60-4ed5-b38d-3ea0d490b964",
   "metadata": {},
   "outputs": [
    {
     "name": "stderr",
     "output_type": "stream",
     "text": [
      "RANSAC iterations: 100%|██████████████████████████████████████████████████████████████████████████████████████████████████████████████| 100/100 [00:00<00:00, 3738.54it/s]"
     ]
    },
    {
     "name": "stdout",
     "output_type": "stream",
     "text": [
      "Smallest singular value:  0.4140936165730035\n",
      "Smallest singular value:  0.4686381106983542\n",
      "Smallest singular value:  0.378188087506088\n",
      "Smallest singular value:  0.23112476749696975\n",
      "Smallest singular value:  0.2008787014954546\n",
      "Smallest singular value:  0.4549941763128682\n",
      "Smallest singular value:  0.3436488990352502\n",
      "Smallest singular value:  0.18257859480055344\n",
      "Smallest singular value:  0.21292327413999337\n",
      "Smallest singular value:  0.283429791774613\n",
      "Smallest singular value:  0.2860381211433134\n",
      "Smallest singular value:  0.34277952035001585\n",
      "Smallest singular value:  0.17364635949520682\n",
      "Smallest singular value:  0.36015932135505757\n",
      "Smallest singular value:  0.1647438115407505\n",
      "Smallest singular value:  0.19793720217994004\n",
      "Smallest singular value:  0.22482313922001113\n",
      "Smallest singular value:  0.1102176278730449\n",
      "Smallest singular value:  0.3520171201752913\n",
      "Smallest singular value:  0.3098060087036482\n",
      "Smallest singular value:  0.4055424719384894\n",
      "Smallest singular value:  0.06712846020383953\n",
      "Smallest singular value:  0.2638172753793361\n",
      "Smallest singular value:  0.21670866983711842\n",
      "Smallest singular value:  0.4048249846796306\n",
      "Smallest singular value:  0.15567527286011607\n",
      "Smallest singular value:  0.4146136085247558\n",
      "Smallest singular value:  0.2936158653175975\n",
      "Smallest singular value:  0.2382215502958565\n",
      "Smallest singular value:  0.3013794874640942\n",
      "Smallest singular value:  0.182738546685405\n",
      "Smallest singular value:  0.32314716324635123\n",
      "Smallest singular value:  0.13496554338019465\n",
      "Smallest singular value:  0.1578596006827186\n",
      "Smallest singular value:  0.09242383707328775\n",
      "Smallest singular value:  0.18397572428915962\n",
      "Smallest singular value:  0.29353154748650245\n",
      "Smallest singular value:  0.15642220551408634\n",
      "Smallest singular value:  0.08330455909089611\n",
      "Smallest singular value:  0.45075313634165015\n",
      "Smallest singular value:  0.24902859525504228\n",
      "Smallest singular value:  0.08417537143161634\n",
      "Smallest singular value:  0.19134735128671462\n",
      "Smallest singular value:  0.3068194766156017\n",
      "Smallest singular value:  0.16083425978696572\n",
      "Smallest singular value:  0.22233072108739016\n",
      "Smallest singular value:  0.25542202006721654\n",
      "Smallest singular value:  0.07369578412991372\n",
      "Smallest singular value:  0.11464474402643655\n",
      "Smallest singular value:  0.2885714825089936\n",
      "Smallest singular value:  0.23901236357400643\n",
      "Smallest singular value:  0.13248575855585107\n",
      "Smallest singular value:  0.2629136012497763\n",
      "Smallest singular value:  0.22490324410943874\n",
      "Smallest singular value:  0.25084966565763334\n",
      "Smallest singular value:  0.45100430242055595\n",
      "Smallest singular value:  0.4087302034735511\n",
      "Smallest singular value:  0.03859238535548413\n",
      "Smallest singular value:  0.18742718104326492\n",
      "Smallest singular value:  0.44100026638655504\n",
      "Smallest singular value:  0.23284186523549122\n",
      "Smallest singular value:  0.16537691021896303\n",
      "Smallest singular value:  0.13630371186699075\n",
      "Smallest singular value:  0.12738837619541707\n",
      "Smallest singular value:  0.2714623136829048\n",
      "Smallest singular value:  0.22961818251448513\n",
      "Smallest singular value:  0.2006025175646689\n",
      "Smallest singular value:  0.02643227721418715\n",
      "Smallest singular value:  0.2631994643473738\n",
      "Smallest singular value:  0.4551303035511696\n",
      "Smallest singular value:  0.4069615624949672\n",
      "Smallest singular value:  0.27933122362183194\n",
      "Smallest singular value:  0.1025959675387604\n",
      "Smallest singular value:  0.2653594475567841\n",
      "Smallest singular value:  0.2068571323953227\n",
      "Smallest singular value:  0.2569626145766928\n",
      "Smallest singular value:  0.28220093144270675\n",
      "Smallest singular value:  0.20797009413566941\n",
      "Smallest singular value:  0.33626584565996753\n",
      "Smallest singular value:  0.20349386420849225\n",
      "Smallest singular value:  0.03891074308680441\n",
      "Smallest singular value:  0.21186933461158028\n",
      "Smallest singular value:  0.21909683035735683\n",
      "Smallest singular value:  0.09709310381909592\n",
      "Smallest singular value:  0.04846503074166141\n",
      "Smallest singular value:  0.23213919831451\n",
      "Smallest singular value:  0.20028043350610822\n",
      "Smallest singular value:  0.35400177618702927\n",
      "Smallest singular value:  0.14325989378247933\n",
      "Smallest singular value:  0.1034020148038637\n",
      "Smallest singular value:  0.15871968439366252\n",
      "Smallest singular value:  0.2898832955482336\n",
      "Smallest singular value:  0.25865449738809265\n",
      "Smallest singular value:  0.06157620231860779\n",
      "Smallest singular value:  0.14383262383698564\n",
      "Smallest singular value:  0.21049581424345565\n",
      "Smallest singular value:  0.2614682888995021\n",
      "Smallest singular value:  0.31315870511886046\n",
      "Smallest singular value:  0.11465447143303224\n",
      "Smallest singular value:  0.41089841287779877\n",
      "After running RANSAC for the reduced camera resectioning problem for 100 iterations the best solution has 0 inliers of 10000 points. I.e. c. 0.00%\n"
     ]
    },
    {
     "name": "stderr",
     "output_type": "stream",
     "text": [
      "\n"
     ]
    }
   ],
   "source": [
    "T = estimate_T_robust(x2n, X, R, translation_threshold, iterations=100)"
   ]
  },
  {
   "cell_type": "code",
   "execution_count": 9,
   "id": "020aa9f7-f82c-49bf-954f-b1d1727ddec0",
   "metadata": {},
   "outputs": [
    {
     "name": "stderr",
     "output_type": "stream",
     "text": [
      "RANSAC iterations: 100%|████████████████████████████████████████████████████████████████████████████████████████████████████████████████| 100/100 [00:07<00:00, 13.56it/s]\n"
     ]
    },
    {
     "name": "stdout",
     "output_type": "stream",
     "text": [
      "After running RANSAC for 100 iterations the best solution has 769 inliers of 10000 points. I.e. c. 7.69%\n"
     ]
    },
    {
     "name": "stderr",
     "output_type": "stream",
     "text": [
      "Triangulating points...: 100%|██████████████████████████████████████████████████████████████████████████████████████████████████████████████| 4/4 [00:00<00:00,  5.02it/s]\n",
      "RANSAC iterations: 100%|██████████████████████████████████████████████████████████████████████████████████████████████████████████████| 100/100 [00:00<00:00, 4509.76it/s]"
     ]
    },
    {
     "name": "stdout",
     "output_type": "stream",
     "text": [
      "After running RANSAC for the reduced camera resectioning problem for 100 iterations the best solution has 0 inliers of 10000 points. I.e. c. 0.00%\n"
     ]
    },
    {
     "name": "stderr",
     "output_type": "stream",
     "text": [
      "\n"
     ]
    }
   ],
   "source": [
    "imA_path = image_paths[init_pair[0]-1]\n",
    "Ps = []\n",
    "Xs = []\n",
    "xs = []\n",
    "for i in range(len(image_paths)):\n",
    "    R = absolute_rotations[i]\n",
    "    if i == init_pair[0]-1:\n",
    "        print('Skipping...')\n",
    "        T=np.zeros((3,1))\n",
    "    else:\n",
    "        x1u, x2u = general.find_matches(imA_path, image_paths[i], roma_model, device=device)\n",
    "        x1n = pflat.pflat(K_inv @ x1u)\n",
    "        x2n = pflat.pflat(K_inv @ x2u)\n",
    "        X = general.triangulate_initial_points(x1n, x2n, epipolar_treshold)\n",
    "        X = (absolute_rotations[init_pair[0]-1]).T@X.T\n",
    "        \n",
    "        T = estimate_T_robust(x2n, X, R, translation_threshold, iterations=100)\n",
    "        break"
   ]
  },
  {
   "cell_type": "code",
   "execution_count": null,
   "id": "371dd9aa-7d59-48e5-a077-6be04b9007a6",
   "metadata": {},
   "outputs": [],
   "source": [
    "imA_path = image_paths[init_pair[0]-1]\n",
    "Ps = []\n",
    "Xs = []\n",
    "xs = []\n",
    "for i in range(len(image_paths)):\n",
    "    R = absolute_rotations[i]\n",
    "    if i == init_pair[0]-1:\n",
    "        print('Skipping...')\n",
    "        T=np.zeros((3,1))\n",
    "    else:\n",
    "        x1u, x2u = general.find_matches(imA_path, image_paths[i], roma_model, device=device)\n",
    "        x1n = pflat.pflat(K_inv @ x1u)\n",
    "        x2n = pflat.pflat(K_inv @ x2u)\n",
    "        X = general.triangulate_initial_points(x1n, x2n, epipolar_treshold)\n",
    "        X = (absolute_rotations[init_pair[0]-1]).T@X.T\n",
    "        # T = estimate_T_robust(x2n, X, R, translation_threshold)\n",
    "        rvec, _ = cv.Rodrigues(R)\n",
    "        success, rvec, T, inliers = cv.solvePnPRansac(X.T, x2u[:2].T, K, None, rvec=rvec, useExtrinsicGuess=True)\n",
    "        Ps.append(np.hstack((R, T)))\n",
    "        Xs.append(X)\n",
    "        xs.append(x2n)\n",
    "\n",
    "viz.plot_scene(X.T, Ps, name=f\"test.png\")"
   ]
  },
  {
   "cell_type": "code",
   "execution_count": null,
   "id": "339f86fc-213f-4489-a2f5-1735e83cf5d3",
   "metadata": {},
   "outputs": [],
   "source": [
    "Xs = [general.make_homogenous(Xi.T) for Xi in Xs]\n",
    "viz.plot_scene(Xs[0], Ps, name=f\"before_BA.png\")\n",
    "Ps = levenberg_marquardt.perform_bundle_adjustment(Xs, xs, Ps)"
   ]
  },
  {
   "cell_type": "code",
   "execution_count": null,
   "id": "3a57b9f7-1673-4a38-9e23-5bec3d044bbc",
   "metadata": {},
   "outputs": [],
   "source": [
    "viz.plot_scene(Xs[0], Ps, name=f\"after_BA.png\")"
   ]
  }
 ],
 "metadata": {
  "kernelspec": {
   "display_name": "Python (main)",
   "language": "python",
   "name": "main"
  },
  "language_info": {
   "codemirror_mode": {
    "name": "ipython",
    "version": 3
   },
   "file_extension": ".py",
   "mimetype": "text/x-python",
   "name": "python",
   "nbconvert_exporter": "python",
   "pygments_lexer": "ipython3",
   "version": "3.12.3"
  }
 },
 "nbformat": 4,
 "nbformat_minor": 5
}
